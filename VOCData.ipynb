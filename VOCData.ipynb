{
  "nbformat": 4,
  "nbformat_minor": 0,
  "metadata": {
    "colab": {
      "provenance": []
    },
    "kernelspec": {
      "name": "python3",
      "display_name": "Python 3"
    },
    "language_info": {
      "name": "python"
    }
  },
  "cells": [
    {
      "cell_type": "code",
      "execution_count": null,
      "metadata": {
        "id": "5sRfRwI-xCD5"
      },
      "outputs": [],
      "source": [
        "!pip3 install deeplake"
      ]
    },
    {
      "cell_type": "code",
      "source": [
        "from google.colab import drive\n",
        "drive.mount(\"/content/drive\")"
      ],
      "metadata": {
        "id": "HHdc2IqHxIIi"
      },
      "execution_count": null,
      "outputs": []
    },
    {
      "cell_type": "code",
      "source": [
        "import deeplake"
      ],
      "metadata": {
        "id": "R5ajHmUaxJy_"
      },
      "execution_count": null,
      "outputs": []
    },
    {
      "cell_type": "code",
      "source": [
        "import cv2\n",
        "from google.colab.patches import cv2_imshow\n",
        "import numpy as np\n",
        "import torch\n",
        "import torch.nn as nn\n",
        "from torch.utils.data import DataLoader\n",
        "from math import cos as cos\n",
        "from math import sin as sin\n",
        "from torch.utils.data import TensorDataset\n",
        "import warnings\n",
        "warnings.filterwarnings('ignore')"
      ],
      "metadata": {
        "id": "kd8525iDxOhq"
      },
      "execution_count": null,
      "outputs": []
    },
    {
      "cell_type": "code",
      "source": [
        "load_train = deeplake.load('hub://activeloop/pascal-voc-2007-train-val')"
      ],
      "metadata": {
        "id": "Y0Pnw8ZMxSfh"
      },
      "execution_count": null,
      "outputs": []
    },
    {
      "cell_type": "code",
      "source": [
        "train_dataloader = load_train.pytorch(num_workers=0, batch_size=1, shuffle=False)"
      ],
      "metadata": {
        "id": "Y2F4ldPWxUyA"
      },
      "execution_count": null,
      "outputs": []
    },
    {
      "cell_type": "code",
      "source": [
        "def data_prep(train_data):\n",
        "\n",
        "  train_imgs = []\n",
        "  train_bb = []\n",
        "  train_lab = []\n",
        "\n",
        "  for i in range(len(train_data)):\n",
        "    train_imgs.append(np.array(train_data[i]['images'][0]))\n",
        "    train_bb.append(np.array(train_data[i]['boxes/box'][0]))\n",
        "    train_lab.append(np.array(train_data[i]['boxes/label'][0] - 1))\n",
        "\n",
        "  train_hsv = []\n",
        "  for i in range(len(train_imgs)):\n",
        "    train_imgs[i] = cv2.resize(train_imgs[i], (448, 448))\n",
        "    train_hsv.append(cv2.cvtColor(train_imgs[i], cv2.COLOR_RGB2HSV))\n",
        "\n",
        "  train_hsv = np.array(train_hsv)\n",
        "\n",
        "  train_hsv = train_hsv.astype(np.float32)\n",
        "\n",
        "  train_hsv = torch.from_numpy(train_hsv)\n",
        "\n",
        "  train_ihsv = torch.clone(train_hsv).type(torch.complex64)\n",
        "\n",
        "  train_hsv = train_hsv.permute(3, 0, 1, 2)\n",
        "  train_ihsv = train_ihsv.permute(3, 0, 1, 2)\n",
        "\n",
        "  train_ihsv[0] = torch.complex(train_hsv[2], train_hsv[1])\n",
        "  train_ihsv[1] = torch.complex(train_hsv[1]*train_hsv[0], train_hsv[2])\n",
        "  train_ihsv[2] = torch.complex(train_hsv[1]*torch.cos(train_hsv[0]), train_hsv[1]*torch.sin(train_hsv[0]))\n",
        "\n",
        "  train_ihsv = train_ihsv.permute(1, 2, 3, 0)\n",
        "  train_hsv = train_hsv.permute(1, 2, 3, 0)\n",
        "\n",
        "  for bb in range(len(train_bb)):\n",
        "\n",
        "    x_scale, y_scale = train_imgs[i].shape[1], train_imgs[i].shape[0]\n",
        "\n",
        "    for val in range(len(train_bb[bb])):\n",
        "      train_bb[bb][val][0] *= (448 / y_scale)\n",
        "      train_bb[bb][val][1] *= (448 / x_scale)\n",
        "      train_bb[bb][val][2] *= (448 / y_scale)\n",
        "      train_bb[bb][val][3] *= (448 / x_scale)\n",
        "\n",
        "  train_hsv = np.array(train_hsv)\n",
        "  train_imgs = train_imgs.astype(np.float32)\n",
        "  train_imgs = torch.from_numpy(train_imgs)\n",
        "\n",
        "  return train_imgs, train_ihsv, train_bb, train_lab\n"
      ],
      "metadata": {
        "id": "2YmpprwlxW4u"
      },
      "execution_count": null,
      "outputs": []
    },
    {
      "cell_type": "code",
      "source": [
        "train_data = []\n",
        "for id, X in enumerate(train_dataloader):\n",
        "  if id >= 1001:\n",
        "    train_data.append(X)\n",
        "  if id >= 1500:\n",
        "    break"
      ],
      "metadata": {
        "id": "dHGNFuCkxXb5"
      },
      "execution_count": null,
      "outputs": []
    },
    {
      "cell_type": "code",
      "source": [
        "'''\n",
        "0 -> 499\n",
        "500 -> 999\n",
        "1001 -> 1500\n",
        "'''"
      ],
      "metadata": {
        "id": "Y6aAjGUcjuVO"
      },
      "execution_count": null,
      "outputs": []
    },
    {
      "cell_type": "code",
      "source": [
        "len(train_data)"
      ],
      "metadata": {
        "id": "saza7IsqiBm1"
      },
      "execution_count": null,
      "outputs": []
    },
    {
      "cell_type": "code",
      "source": [
        "train_imgs, train_ihsv, train_bb, train_lab = data_prep(train_data)"
      ],
      "metadata": {
        "id": "aFiIiMdYxcm5"
      },
      "execution_count": null,
      "outputs": []
    },
    {
      "cell_type": "code",
      "source": [
        "grid_size = 7\n",
        "image_size = (64, 64)\n",
        "num_BB = 2\n",
        "num_classes = 20\n",
        "depth = 5 * num_BB + num_classes\n",
        "num_epoches = 2\n",
        "Batch_size = 8"
      ],
      "metadata": {
        "id": "OjzP5lVJxeBy"
      },
      "execution_count": null,
      "outputs": []
    },
    {
      "cell_type": "code",
      "source": [
        "def get_ground_truth(BB, Labels):\n",
        "\n",
        "      grid_size_x = image_size[1] / grid_size\n",
        "      grid_size_y = image_size[0] / grid_size\n",
        "\n",
        "      boxes = {}\n",
        "      class_names = {}\n",
        "      ground_truth = torch.zeros((grid_size, grid_size, depth))\n",
        "\n",
        "      for i in range(len(BB)):\n",
        "          label = Labels[i]\n",
        "          x_min, y_min, x_max, y_max = BB[i][0], BB[i][1], BB[i][2], BB[i][3]\n",
        "          center = ((x_max + x_min) / 2, (y_max + y_min) / 2)\n",
        "          col_index = int(center[0] // grid_size_x)\n",
        "          row_index = int(center[1] // grid_size_y)\n",
        "          if (row_index, col_index) not in boxes.keys():\n",
        "            boxes[(row_index, col_index)] = 0\n",
        "          if (0 <= col_index < grid_size and 0 <= row_index < grid_size and boxes[(row_index, col_index)]<num_BB):\n",
        "                  ground_truth[row_index][col_index][2*5 + label] = 1.0\n",
        "                  ground_truth[row_index][col_index][boxes[(row_index, col_index)]*5] = 1.0\n",
        "                  ground_truth[row_index][col_index][boxes[(row_index, col_index)]*5 + 1] = (center[0] - col_index * grid_size_x) / image_size[0]\n",
        "                  ground_truth[row_index][col_index][boxes[(row_index, col_index)]*5 + 2] = (center[1] - row_index * grid_size_y) / image_size[1]\n",
        "                  ground_truth[row_index][col_index][boxes[(row_index, col_index)]*5 + 3] = (x_max - x_min) / image_size[0]\n",
        "                  ground_truth[row_index][col_index][boxes[(row_index, col_index)]*5 + 4] = (y_max - y_min) / image_size[1]\n",
        "\n",
        "                  boxes[(row_index, col_index)] += 1\n",
        "      return ground_truth.tolist()"
      ],
      "metadata": {
        "id": "RO3NU2vvxh9-"
      },
      "execution_count": null,
      "outputs": []
    },
    {
      "cell_type": "code",
      "source": [
        "ground_truth = []\n",
        "for i in range(len(train_bb)):\n",
        "  ground_truth.append(get_ground_truth(train_bb[i], train_lab[i]))\n",
        "ground_truth = torch.Tensor(ground_truth)"
      ],
      "metadata": {
        "id": "qIM5U14uxk2j"
      },
      "execution_count": null,
      "outputs": []
    },
    {
      "cell_type": "code",
      "source": [
        "import os\n",
        "\n",
        "directory_path = '/content/drive/MyDrive/VOC2007/Train/Batch3'\n",
        "\n",
        "if not os.path.exists(directory_path):\n",
        "    os.makedirs(directory_path)\n",
        "    print(f\"Directory '{directory_path}' created.\")\n",
        "else:\n",
        "    print(f\"Directory '{directory_path}' already exists.\")\n",
        "\n",
        "imgs_path = os.path.join(directory_path, 'train_imgs.pt')\n",
        "if not os.path.exists(imgs_path):\n",
        "    torch.save(train_imgs, imgs_path)\n",
        "    print(f\"Tensor saved to '{imgs_path}'.\")\n",
        "else:\n",
        "    print(f\"File '{imgs_path}' already exists. Not saving the tensor.\")\n",
        "\n",
        "ihsv_path = os.path.join(directory_path, 'train_ihsv.pt')\n",
        "if not os.path.exists(ihsv_path):\n",
        "    torch.save(train_ihsv, ihsv_path)\n",
        "    print(f\"Tensor saved to '{ihsv_path}'.\")\n",
        "else:\n",
        "    print(f\"File '{ihsv_path}' already exists. Not saving the tensor.\")\n",
        "\n",
        "# bb_path = os.path.join(directory_path, 'train_bb.pt')\n",
        "# if not os.path.exists(bb_path):\n",
        "#     torch.save(train_bb, bb_path)\n",
        "#     print(f\"Tensor saved to '{bb_path}'.\")\n",
        "# else:\n",
        "#     print(f\"File '{bb_path}' already exists. Not saving the tensor.\")\n",
        "\n",
        "\n",
        "# lab_path = os.path.join(directory_path, 'train_lab.pt')\n",
        "# if not os.path.exists(lab_path):\n",
        "#     torch.save(train_lab, lab_path)\n",
        "#     print(f\"Tensor saved to '{lab_path}'.\")\n",
        "# else:\n",
        "#     print(f\"File '{lab_path}' already exists. Not saving the tensor.\")\n",
        "\n",
        "gt_path = os.path.join(directory_path, 'train_gt.pt')\n",
        "if not os.path.exists(gt_path):\n",
        "    torch.save(ground_truth, gt_path)\n",
        "    print(f\"Tensor saved to '{gt_path}'.\")\n",
        "else:\n",
        "    print(f\"File '{gt_path}' already exists. Not saving the tensor.\")"
      ],
      "metadata": {
        "id": "VLDxIAtoxm6N"
      },
      "execution_count": null,
      "outputs": []
    },
    {
      "cell_type": "code",
      "source": [
        "val_data = []\n",
        "for id, X in enumerate(train_dataloader):\n",
        "  if id >= 1501:\n",
        "    val_data.append(X)\n",
        "  if id >= 1600:\n",
        "    break"
      ],
      "metadata": {
        "id": "tirW5NqkxqZH"
      },
      "execution_count": null,
      "outputs": []
    },
    {
      "cell_type": "code",
      "source": [
        "len(val_data)"
      ],
      "metadata": {
        "id": "wGNGMvTqj8OC"
      },
      "execution_count": null,
      "outputs": []
    },
    {
      "cell_type": "code",
      "source": [
        "val_imgs, val_ihsv, val_bb, val_lab = data_prep(val_data)"
      ],
      "metadata": {
        "id": "AOksf49Pxs4a"
      },
      "execution_count": null,
      "outputs": []
    },
    {
      "cell_type": "code",
      "source": [
        "ground_truth = []\n",
        "for i in range(len(val_bb)):\n",
        "  ground_truth.append(get_ground_truth(val_bb[i], val_lab[i]))\n",
        "ground_truth = torch.Tensor(ground_truth)"
      ],
      "metadata": {
        "id": "tSyPgAYUxtMf"
      },
      "execution_count": null,
      "outputs": []
    },
    {
      "cell_type": "code",
      "source": [
        "import os\n",
        "\n",
        "directory_path = '/content/drive/MyDrive/VOC2007/Validation/Batch1'\n",
        "\n",
        "if not os.path.exists(directory_path):\n",
        "    os.makedirs(directory_path)\n",
        "    print(f\"Directory '{directory_path}' created.\")\n",
        "else:\n",
        "    print(f\"Directory '{directory_path}' already exists.\")\n",
        "\n",
        "imgs_path = os.path.join(directory_path, 'val_imgs.pt')\n",
        "if not os.path.exists(imgs_path):\n",
        "    torch.save(val_imgs, imgs_path)\n",
        "    print(f\"Tensor saved to '{imgs_path}'.\")\n",
        "else:\n",
        "    print(f\"File '{imgs_path}' already exists. Not saving the tensor.\")\n",
        "\n",
        "ihsv_path = os.path.join(directory_path, 'val_ihsv.pt')\n",
        "if not os.path.exists(ihsv_path):\n",
        "    torch.save(val_ihsv, ihsv_path)\n",
        "    print(f\"Tensor saved to '{ihsv_path}'.\")\n",
        "else:\n",
        "    print(f\"File '{ihsv_path}' already exists. Not saving the tensor.\")\n",
        "\n",
        "# bb_path = os.path.join(directory_path, 'val_bb.pt')\n",
        "# if not os.path.exists(bb_path):\n",
        "#     torch.save(val_bb, bb_path)\n",
        "#     print(f\"Tensor saved to '{bb_path}'.\")\n",
        "# else:\n",
        "#     print(f\"File '{bb_path}' already exists. Not saving the tensor.\")\n",
        "\n",
        "\n",
        "# lab_path = os.path.join(directory_path, 'val_lab.pt')\n",
        "# if not os.path.exists(lab_path):\n",
        "#     torch.save(val_lab, lab_path)\n",
        "#     print(f\"Tensor saved to '{lab_path}'.\")\n",
        "# else:\n",
        "#     print(f\"File '{lab_path}' already exists. Not saving the tensor.\")\n",
        "\n",
        "gt_path = os.path.join(directory_path, 'val_gt.pt')\n",
        "if not os.path.exists(gt_path):\n",
        "    torch.save(ground_truth, gt_path)\n",
        "    print(f\"Tensor saved to '{gt_path}'.\")\n",
        "else:\n",
        "    print(f\"File '{gt_path}' already exists. Not saving the tensor.\")"
      ],
      "metadata": {
        "id": "dr7v33wPxu1f"
      },
      "execution_count": null,
      "outputs": []
    }
  ]
}