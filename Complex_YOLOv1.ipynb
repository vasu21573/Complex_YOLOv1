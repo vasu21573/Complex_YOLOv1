{
  "nbformat": 4,
  "nbformat_minor": 0,
  "metadata": {
    "colab": {
      "provenance": [],
      "gpuType": "T4"
    },
    "kernelspec": {
      "name": "python3",
      "display_name": "Python 3"
    },
    "language_info": {
      "name": "python"
    },
    "accelerator": "GPU"
  },
  "cells": [
    {
      "cell_type": "code",
      "source": [
        "!pip install \"git+https://github.com/wavefrontshaping/complexPyTorch.git\""
      ],
      "metadata": {
        "id": "aZ6TLVCV1bha"
      },
      "execution_count": null,
      "outputs": []
    },
    {
      "cell_type": "code",
      "source": [
        "from google.colab import drive\n",
        "drive.mount(\"/content/drive\")"
      ],
      "metadata": {
        "id": "pQl287X5wdfg"
      },
      "execution_count": null,
      "outputs": []
    },
    {
      "cell_type": "code",
      "source": [
        "import cv2\n",
        "from google.colab.patches import cv2_imshow\n",
        "import numpy as np\n",
        "import torch\n",
        "import torch.nn as nn\n",
        "from torch.utils.data import DataLoader\n",
        "from math import cos as cos\n",
        "from math import sin as sin\n",
        "from torch.utils.data import TensorDataset\n",
        "import warnings\n",
        "warnings.filterwarnings('ignore')"
      ],
      "metadata": {
        "id": "X2iAigJOwrKy"
      },
      "execution_count": null,
      "outputs": []
    },
    {
      "cell_type": "code",
      "source": [
        "from complexPyTorch.complexLayers import ComplexConv2d, ComplexLinear, ComplexMaxPool2d\n",
        "from complexPyTorch.complexFunctions import complex_max_pool2d, complex_dropout"
      ],
      "metadata": {
        "id": "pmV6aHPQNoui"
      },
      "execution_count": null,
      "outputs": []
    },
    {
      "cell_type": "code",
      "source": [
        "grid_size = 7\n",
        "image_size = (64, 64)\n",
        "num_BB = 2\n",
        "num_classes = 20\n",
        "depth = 5 * num_BB + num_classes\n",
        "num_epoches = 2\n",
        "Batch_size = 8"
      ],
      "metadata": {
        "id": "1vy-2QWIxrTN"
      },
      "execution_count": null,
      "outputs": []
    },
    {
      "cell_type": "code",
      "source": [
        "device = torch.device('cuda' if torch.cuda.is_available() else 'cpu')\n",
        "device"
      ],
      "metadata": {
        "id": "9TkjN55j1DpB"
      },
      "execution_count": null,
      "outputs": []
    },
    {
      "cell_type": "code",
      "source": [
        "class LeakyReLUComplex(nn.Module):\n",
        "    def __init__(self, negative_slope=0.01):\n",
        "        super(LeakyReLUComplex, self).__init__()\n",
        "        self.negative_slope = negative_slope\n",
        "\n",
        "    def forward(self, input):\n",
        "        input.real = torch.where(input.real > 0, input.real, input.real * self.negative_slope)\n",
        "        input.imag = torch.where(input.imag > 0, input.imag, input.imag * self.negative_slope)\n",
        "        return input"
      ],
      "metadata": {
        "id": "30cVjrhl1GLn"
      },
      "execution_count": null,
      "outputs": []
    },
    {
      "cell_type": "code",
      "source": [
        "class ClampComplex(nn.Module):\n",
        "  def __init__(self, min, max):\n",
        "    super(ClampComplex, self).__init__()\n",
        "    self.min = min\n",
        "    self.max = max\n",
        "\n",
        "  def forward(self, input):\n",
        "    input.real = torch.clamp(input.real, min=self.min, max=self.max)\n",
        "    input.imag = torch.clamp(input.imag, min=self.min, max=self.max)\n",
        "    return input"
      ],
      "metadata": {
        "id": "yzER6Tw81Hud"
      },
      "execution_count": null,
      "outputs": []
    },
    {
      "cell_type": "code",
      "source": [
        "class ComplexDropout(nn.Module):\n",
        "    def __init__(self, p=0.5):\n",
        "        super().__init__()\n",
        "        self.p = p\n",
        "\n",
        "    def forward(self, input):\n",
        "        if self.training:\n",
        "            return complex_dropout(input, self.p)\n",
        "        else:\n",
        "            return input"
      ],
      "metadata": {
        "id": "uxtaeDwTMMsU"
      },
      "execution_count": null,
      "outputs": []
    },
    {
      "cell_type": "code",
      "source": [
        "class YOLOv1(nn.Module):\n",
        "    def __init__(self):\n",
        "      super().__init__()\n",
        "      # self.clampLayer = ClampComplex(min=0, max=1)\n",
        "      layer1 = [\n",
        "          ComplexConv2d(3, 32, kernel_size=7, stride=2, padding=3),\n",
        "          LeakyReLUComplex(negative_slope=0.1)]\n",
        "\n",
        "      layer2 = [ComplexConv2d(32, 96, kernel_size=3, padding=1),\n",
        "          LeakyReLUComplex(negative_slope=0.1)]\n",
        "\n",
        "      layer3 = [ComplexConv2d(96, 64, kernel_size=1),\n",
        "          LeakyReLUComplex(negative_slope=0.1),\n",
        "          ComplexConv2d(64, 128, kernel_size=3, padding=1),\n",
        "          LeakyReLUComplex(negative_slope=0.1),\n",
        "          ComplexConv2d(128, 128, kernel_size=1),\n",
        "          LeakyReLUComplex(negative_slope=0.1),\n",
        "          ComplexConv2d(128, 256, kernel_size=3, padding=1),\n",
        "          LeakyReLUComplex(negative_slope=0.1)]\n",
        "\n",
        "      layer4 = [ComplexConv2d(256, 128, kernel_size=1),\n",
        "          ComplexConv2d(128, 256, kernel_size=3, padding=1),\n",
        "          LeakyReLUComplex(negative_slope=0.1),\n",
        "          ComplexConv2d(256, 128, kernel_size=1),\n",
        "          ComplexConv2d(128, 256, kernel_size=3, padding=1),\n",
        "          LeakyReLUComplex(negative_slope=0.1),\n",
        "          ComplexConv2d(256, 128, kernel_size=1),\n",
        "          ComplexConv2d(128, 256, kernel_size=3, padding=1),\n",
        "          LeakyReLUComplex(negative_slope=0.1),\n",
        "          ComplexConv2d(256, 128, kernel_size=1),\n",
        "          ComplexConv2d(128, 256, kernel_size=3, padding=1),\n",
        "          LeakyReLUComplex(negative_slope=0.1),\n",
        "          ComplexConv2d(256, 256, kernel_size=1),\n",
        "          ComplexConv2d(256, 512, kernel_size=3, padding=1),\n",
        "          LeakyReLUComplex(negative_slope=0.1)]\n",
        "\n",
        "      layer5 = [ComplexConv2d(512, 256, kernel_size=1),\n",
        "          ComplexConv2d(256, 512, kernel_size=3, padding=1),\n",
        "          LeakyReLUComplex(negative_slope=0.1),\n",
        "          ComplexConv2d(512, 256, kernel_size=1),\n",
        "          ComplexConv2d(256, 512, kernel_size=3, padding=1),\n",
        "          LeakyReLUComplex(negative_slope=0.1),\n",
        "          ComplexConv2d(512, 512, kernel_size=3, padding=1),\n",
        "          LeakyReLUComplex(negative_slope=0.1),\n",
        "          ComplexConv2d(512, 512, kernel_size=3, stride=2, padding=1),\n",
        "          LeakyReLUComplex(negative_slope=0.1),\n",
        "\n",
        "          ComplexConv2d(512, 512, kernel_size=3, padding=1),\n",
        "          LeakyReLUComplex(negative_slope=0.1),\n",
        "          ComplexConv2d(512, 512, kernel_size=3, padding=1),\n",
        "          LeakyReLUComplex(negative_slope=0.1),\n",
        "\n",
        "          nn.Flatten()]\n",
        "\n",
        "      layer6 = [ComplexLinear(7 * 7 * 512, 2048),\n",
        "          ComplexDropout(),\n",
        "\n",
        "          LeakyReLUComplex(negative_slope=0.1),\n",
        "\n",
        "          ComplexLinear(2048, 7 * 7 * depth)\n",
        "      ]\n",
        "\n",
        "      self.layer1 = nn.Sequential(*layer1)\n",
        "      self.layer2 = nn.Sequential(*layer2)\n",
        "      self.layer3 = nn.Sequential(*layer3)\n",
        "      self.layer4 = nn.Sequential(*layer4)\n",
        "      self.layer5 = nn.Sequential(*layer5)\n",
        "      self.layer6 = nn.Sequential(*layer6)\n",
        "\n",
        "    def forward(self, X):\n",
        "      x = self.layer1(X)\n",
        "      # print(1, x)\n",
        "      x = complex_max_pool2d(x, kernel_size=2, stride=2)\n",
        "      # x = self.clampLayer(x)\n",
        "      # print(2, x)\n",
        "      x = self.layer2(x)\n",
        "      # x = self.clampLayer(x)\n",
        "      # print(3, x)\n",
        "      x = complex_max_pool2d(x, kernel_size=2, stride=2)\n",
        "      # x = self.clampLayer(x)\n",
        "      # print(4, x)\n",
        "      x = self.layer3(x)\n",
        "      # x = self.clampLayer(x)\n",
        "      # print(5, x)\n",
        "      x = complex_max_pool2d(x, kernel_size=2, stride=2)\n",
        "      # x = self.clampLayer(x)\n",
        "      # print(6, x)\n",
        "      x = self.layer4(x)\n",
        "      # x = self.clampLayer(x)\n",
        "      # print(7, x)\n",
        "      x = complex_max_pool2d(x, kernel_size=2, stride=2)\n",
        "      # x = self.clampLayer(x)\n",
        "      # print(8, x.shape)\n",
        "      x = self.layer5(x)\n",
        "      # print(9, x.shape)\n",
        "      x = self.layer6(x)\n",
        "      # x = self.clampLayer(x)\n",
        "      # print(9, x)\n",
        "      x = x.abs()\n",
        "\n",
        "      # print(10, x)\n",
        "      return torch.reshape(x ,(X.shape[0], 7, 7, depth))"
      ],
      "metadata": {
        "id": "SoNy8vbJ1KMs"
      },
      "execution_count": null,
      "outputs": []
    },
    {
      "cell_type": "code",
      "source": [
        "class YOLOv1Loss(nn.Module):\n",
        "    def __init__(self):\n",
        "        super().__init__()\n",
        "\n",
        "    def forward(self, Y_pred, Y):\n",
        "        batch_size = Y.size(0)\n",
        "        loss = 0\n",
        "\n",
        "        for i in range(batch_size):\n",
        "            for y in range(grid_size):\n",
        "                for x in range(grid_size):\n",
        "\n",
        "                  loss += 0.5 * Y[i, x, y, 0] * ((Y_pred[i, x, y, 1] - Y[i, x, y, 1])**2 + (Y_pred[i, x, y, 2] - Y[i, x, y, 2])**2)\n",
        "                  loss += 0.5 * Y[i, x, y, 5] * ((Y_pred[i, x, y, 6] - Y[i, x, y, 6])**2 + (Y_pred[i, x, y, 7] - Y[i, x, y, 7])**2)\n",
        "\n",
        "                  loss += 0.5 * Y[i, x, y, 0] * ((abs(Y_pred[i, x, y, 3])**0.5 - Y[i, x, y, 3]**0.5)**2 + (abs(Y_pred[i, x, y, 4])**0.5 - Y[i, x, y, 4]**0.5)**2)\n",
        "                  loss += 0.5 * Y[i, x, y, 5] * ((abs(Y_pred[i, x, y, 8])**0.5 - Y[i, x, y, 8]**0.5)**2 + (abs(Y_pred[i, x, y, 9])**0.5 - Y[i, x, y, 9]**0.5)**2)\n",
        "\n",
        "                  if(Y[i, x, y, 0]==0):\n",
        "                    loss += 0.5 * (Y[i, x, y, 0] - Y_pred[i, x, y, 0])**2\n",
        "                  else:\n",
        "                    loss += (Y[i, x, y, 0] - Y_pred[i, x, y, 0])**2\n",
        "\n",
        "                  if(Y[i, x, y, 5]==0):\n",
        "                    loss += 0.5 * (Y[i, x, y, 5] - Y_pred[i, x, y, 5])**2\n",
        "                  else:\n",
        "                    loss += (Y[i, x, y, 5] - Y_pred[i, x, y, 5])**2\n",
        "\n",
        "                  for j in range(10, 10+num_classes):\n",
        "                    loss += Y[i, x, y, 0] * ((Y[i, x, y, j]-Y_pred[i, x, y, j])**2)\n",
        "        return loss"
      ],
      "metadata": {
        "id": "52qWCpsb1MaN"
      },
      "execution_count": null,
      "outputs": []
    },
    {
      "cell_type": "code",
      "source": [
        "model = YOLOv1().to(device)"
      ],
      "metadata": {
        "id": "sbSh4RZ6h3VS"
      },
      "execution_count": null,
      "outputs": []
    },
    {
      "cell_type": "code",
      "source": [
        "loss_function = YOLOv1Loss()"
      ],
      "metadata": {
        "id": "OmKgJKdu1Otd"
      },
      "execution_count": null,
      "outputs": []
    },
    {
      "cell_type": "code",
      "source": [
        "optimizer = torch.optim.SGD(\n",
        "        model.parameters(),\n",
        "        lr=1e-4,\n",
        "        momentum=0.9,\n",
        "        weight_decay=0.0005\n",
        "    )"
      ],
      "metadata": {
        "id": "drwL0r-J1QAB"
      },
      "execution_count": null,
      "outputs": []
    },
    {
      "cell_type": "code",
      "source": [
        "validation_loss = torch.load('/content/drive/MyDrive/VOC2007/Validation/complex_loss.pt').to(device)\n",
        "validation_loss = list(validation_loss)"
      ],
      "metadata": {
        "id": "g5MboMCsmdUg"
      },
      "execution_count": null,
      "outputs": []
    },
    {
      "cell_type": "code",
      "source": [
        "training_loss = torch.load('/content/drive/MyDrive/VOC2007/Train/complex_loss.pt').to(device)\n",
        "training_loss = list(training_loss)"
      ],
      "metadata": {
        "id": "HpG8X2CO9ZXP"
      },
      "execution_count": null,
      "outputs": []
    },
    {
      "cell_type": "code",
      "source": [
        "train_loader = DataLoader(TensorDataset(torch.load(\"/content/drive/MyDrive/VOC2007/Train/Batch3/train_ihsv.pt\").to(device), torch.load(\"/content/drive/MyDrive/VOC2007/Train/Batch3/train_gt.pt\").to(device)), batch_size=Batch_size)"
      ],
      "metadata": {
        "id": "Zpmbqxlh1S4N"
      },
      "execution_count": null,
      "outputs": []
    },
    {
      "cell_type": "code",
      "source": [
        "val_loader = DataLoader(TensorDataset(torch.load(\"/content/drive/MyDrive/VOC2007/Validation/Batch1/val_ihsv.pt\").to(device), torch.load(\"/content/drive/MyDrive/VOC2007/Validation/Batch1/val_gt.pt\").to(device)), batch_size=Batch_size)"
      ],
      "metadata": {
        "id": "ma5yk5Ni1T31"
      },
      "execution_count": null,
      "outputs": []
    },
    {
      "cell_type": "code",
      "source": [
        "model.load_state_dict(torch.load('/content/drive/MyDrive/VOC2007/complex_model_weights.pt'))"
      ],
      "metadata": {
        "id": "ksWDf8ucYvQ4"
      },
      "execution_count": null,
      "outputs": []
    },
    {
      "cell_type": "markdown",
      "source": [
        "## Epochs: 10"
      ],
      "metadata": {
        "id": "kHRAECuCfVGK"
      }
    },
    {
      "cell_type": "code",
      "source": [
        "for epoch in range(1, num_epoches):\n",
        "\n",
        "  model.train()\n",
        "  train_loss = 0\n",
        "  for batch_idx, (X, Y) in enumerate(train_loader):\n",
        "\n",
        "    optimizer.zero_grad()\n",
        "    X = torch.permute(X, (0, 3, 1, 2))\n",
        "    predictions = model.forward(X)\n",
        "    predictions = torch.clamp(predictions, min=0, max=1)\n",
        "    Loss = loss_function(predictions, Y)\n",
        "    Loss.backward()\n",
        "    optimizer.step()\n",
        "    train_loss += Loss\n",
        "\n",
        "  torch.save(model.state_dict(), '/content/drive/MyDrive/VOC2007/complex_model_weights.pt')\n",
        "  print(\"training loss: epoch: \", epoch, \"loss: \", train_loss/1500)\n",
        "  training_loss.append(train_loss/1500)\n",
        "  torch.save(torch.Tensor(training_loss).to(device), '/content/drive/MyDrive/VOC2007/Train/complex_loss.pt')\n",
        "\n",
        "  model.eval()\n",
        "  val_loss = 0\n",
        "  with torch.inference_mode():\n",
        "    for batch_idx, (X, Y) in enumerate(val_loader):\n",
        "      X = torch.permute(X, (0, 3, 1, 2))\n",
        "      predictions = model(X)\n",
        "      val_loss += loss_function(predictions, Y)\n",
        "\n",
        "  print(\"validation loss: epoch: \", epoch, \"loss: \", val_loss/100)\n",
        "  validation_loss.append(val_loss/100)\n",
        "  torch.save(torch.Tensor(validation_loss).to(device), '/content/drive/MyDrive/VOC2007/Validation/complex_loss.pt')"
      ],
      "metadata": {
        "id": "LeXsBIqI1VR1"
      },
      "execution_count": null,
      "outputs": []
    }
  ]
}