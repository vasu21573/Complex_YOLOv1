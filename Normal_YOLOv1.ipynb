{
  "cells": [
    {
      "cell_type": "code",
      "execution_count": null,
      "metadata": {
        "id": "kzwYwQagPvg5"
      },
      "outputs": [],
      "source": [
        "from google.colab import drive\n",
        "drive.mount(\"/content/drive\")"
      ]
    },
    {
      "cell_type": "code",
      "execution_count": null,
      "metadata": {
        "id": "hWMDLzcoP0JL"
      },
      "outputs": [],
      "source": [
        "import cv2\n",
        "from google.colab.patches import cv2_imshow\n",
        "import numpy as np\n",
        "import torch\n",
        "import torch.nn as nn\n",
        "from torch.utils.data import DataLoader\n",
        "from math import cos as cos\n",
        "from math import sin as sin\n",
        "from torch.utils.data import TensorDataset\n",
        "import warnings\n",
        "warnings.filterwarnings('ignore')"
      ]
    },
    {
      "cell_type": "code",
      "execution_count": null,
      "metadata": {
        "id": "o6vAaGBFP90X"
      },
      "outputs": [],
      "source": [
        "grid_size = 7\n",
        "image_size = (64, 64)\n",
        "num_BB = 2\n",
        "num_classes = 20\n",
        "depth = 5 * num_BB + num_classes\n",
        "num_epoches = 2\n",
        "Batch_size = 8"
      ]
    },
    {
      "cell_type": "code",
      "execution_count": null,
      "metadata": {
        "id": "sjSfVI6RQA1K"
      },
      "outputs": [],
      "source": [
        "device = torch.device('cuda' if torch.cuda.is_available() else 'cpu')\n",
        "device"
      ]
    },
    {
      "cell_type": "code",
      "execution_count": null,
      "metadata": {
        "id": "tg1fSdmjQHTm"
      },
      "outputs": [],
      "source": [
        "class YOLOv1(nn.Module):\n",
        "    def __init__(self):\n",
        "      super().__init__()\n",
        "      layers = [\n",
        "          nn.Conv2d(3, 64, kernel_size=7, stride=2, padding=3),\n",
        "          nn.LeakyReLU(negative_slope=0.1),\n",
        "          nn.MaxPool2d(kernel_size=2, stride=2),\n",
        "\n",
        "          nn.Conv2d(64, 192, kernel_size=3, padding=1),\n",
        "          nn.LeakyReLU(negative_slope=0.1),\n",
        "          nn.MaxPool2d(kernel_size=2, stride=2),\n",
        "\n",
        "          nn.Conv2d(192, 128, kernel_size=1),\n",
        "          nn.LeakyReLU(negative_slope=0.1),\n",
        "          nn.Conv2d(128, 256, kernel_size=3, padding=1),\n",
        "          nn.LeakyReLU(negative_slope=0.1),\n",
        "          nn.Conv2d(256, 256, kernel_size=1),\n",
        "          nn.LeakyReLU(negative_slope=0.1),\n",
        "          nn.Conv2d(256, 512, kernel_size=3, padding=1),\n",
        "          nn.LeakyReLU(negative_slope=0.1),\n",
        "          nn.MaxPool2d(kernel_size=2, stride=2),\n",
        "\n",
        "          nn.Conv2d(512, 256, kernel_size=1),\n",
        "          nn.Conv2d(256, 512, kernel_size=3, padding=1),\n",
        "          nn.LeakyReLU(negative_slope=0.1),\n",
        "          nn.Conv2d(512, 256, kernel_size=1),\n",
        "          nn.Conv2d(256, 512, kernel_size=3, padding=1),\n",
        "          nn.LeakyReLU(negative_slope=0.1),\n",
        "          nn.Conv2d(512, 256, kernel_size=1),\n",
        "          nn.Conv2d(256, 512, kernel_size=3, padding=1),\n",
        "          nn.LeakyReLU(negative_slope=0.1),\n",
        "          nn.Conv2d(512, 256, kernel_size=1),\n",
        "          nn.Conv2d(256, 512, kernel_size=3, padding=1),\n",
        "          nn.LeakyReLU(negative_slope=0.1),\n",
        "          nn.Conv2d(512, 512, kernel_size=1),\n",
        "          nn.Conv2d(512, 1024, kernel_size=3, padding=1),\n",
        "          nn.LeakyReLU(negative_slope=0.1),\n",
        "          nn.MaxPool2d(kernel_size=2, stride=2),\n",
        "\n",
        "          nn.Conv2d(1024, 512, kernel_size=1),\n",
        "          nn.Conv2d(512, 1024, kernel_size=3, padding=1),\n",
        "          nn.LeakyReLU(negative_slope=0.1),\n",
        "          nn.Conv2d(1024, 512, kernel_size=1),\n",
        "          nn.Conv2d(512, 1024, kernel_size=3, padding=1),\n",
        "          nn.LeakyReLU(negative_slope=0.1),\n",
        "          nn.Conv2d(1024, 1024, kernel_size=3, padding=1),\n",
        "          nn.LeakyReLU(negative_slope=0.1),\n",
        "          nn.Conv2d(1024, 1024, kernel_size=3, stride=2, padding=1),\n",
        "          nn.LeakyReLU(negative_slope=0.1),\n",
        "\n",
        "          nn.Conv2d(1024, 1024, kernel_size=3, padding=1),\n",
        "          nn.LeakyReLU(negative_slope=0.1),\n",
        "          nn.Conv2d(1024, 1024, kernel_size=3, padding=1),\n",
        "          nn.LeakyReLU(negative_slope=0.1),\n",
        "\n",
        "          nn.Flatten(),\n",
        "          nn.Linear(7 * 7 * 1024, 4096),\n",
        "          nn.Dropout(),\n",
        "\n",
        "          nn.LeakyReLU(negative_slope=0.1),\n",
        "          nn.Linear(4096, 7 * 7 * depth)\n",
        "      ]\n",
        "\n",
        "      self.layers = nn.Sequential(*layers)\n",
        "\n",
        "    def forward(self, x):\n",
        "      x = self.layers(x)\n",
        "      return torch.reshape(x,(x.shape[0], 7, 7, depth))"
      ]
    },
    {
      "cell_type": "code",
      "execution_count": null,
      "metadata": {
        "id": "luhUORUiRqRM"
      },
      "outputs": [],
      "source": [
        "class YOLOv1Loss(nn.Module):\n",
        "    def __init__(self):\n",
        "        super().__init__()\n",
        "\n",
        "    def forward(self, Y_pred, Y):\n",
        "        batch_size = Y.size(0)\n",
        "        loss = 0\n",
        "\n",
        "        for i in range(batch_size):\n",
        "            for y in range(grid_size):\n",
        "                for x in range(grid_size):\n",
        "\n",
        "                  loss += 0.5 * Y[i, x, y, 0] * ((Y_pred[i, x, y, 1] - Y[i, x, y, 1])**2 + (Y_pred[i, x, y, 2] - Y[i, x, y, 2])**2)\n",
        "                  loss += 0.5 * Y[i, x, y, 5] * ((Y_pred[i, x, y, 6] - Y[i, x, y, 6])**2 + (Y_pred[i, x, y, 7] - Y[i, x, y, 7])**2)\n",
        "\n",
        "                  loss += 0.5 * Y[i, x, y, 0] * ((abs(Y_pred[i, x, y, 3])**0.5 - Y[i, x, y, 3]**0.5)**2 + (abs(Y_pred[i, x, y, 4])**0.5 - Y[i, x, y, 4]**0.5)**2)\n",
        "                  loss += 0.5 * Y[i, x, y, 5] * ((abs(Y_pred[i, x, y, 8])**0.5 - Y[i, x, y, 8]**0.5)**2 + (abs(Y_pred[i, x, y, 9])**0.5 - Y[i, x, y, 9]**0.5)**2)\n",
        "\n",
        "                  if(Y[i, x, y, 0]==0):\n",
        "                    loss += 0.5 * (Y[i, x, y, 0] - Y_pred[i, x, y, 0])**2\n",
        "                  else:\n",
        "                    loss += (Y[i, x, y, 0] - Y_pred[i, x, y, 0])**2\n",
        "\n",
        "                  if(Y[i, x, y, 5]==0):\n",
        "                    loss += 0.5 * (Y[i, x, y, 5] - Y_pred[i, x, y, 5])**2\n",
        "                  else:\n",
        "                    loss += (Y[i, x, y, 5] - Y_pred[i, x, y, 5])**2\n",
        "\n",
        "                  for j in range(10, 10+num_classes):\n",
        "                    loss += Y[i, x, y, 0] * ((Y[i, x, y, j]-Y_pred[i, x, y, j])**2)\n",
        "        return loss"
      ]
    },
    {
      "cell_type": "code",
      "execution_count": null,
      "metadata": {
        "id": "JTEB391dRtYs"
      },
      "outputs": [],
      "source": [
        "model = YOLOv1().to(device)"
      ]
    },
    {
      "cell_type": "code",
      "execution_count": null,
      "metadata": {
        "id": "GKOdhWqIRuxW"
      },
      "outputs": [],
      "source": [
        "loss_function = YOLOv1Loss()"
      ]
    },
    {
      "cell_type": "code",
      "execution_count": null,
      "metadata": {
        "id": "_ObconKLRv9O"
      },
      "outputs": [],
      "source": [
        "optimizer = torch.optim.SGD(\n",
        "        model.parameters(),\n",
        "        lr=1e-4,\n",
        "        momentum=0.9,\n",
        "        weight_decay=0.0005\n",
        "    )"
      ]
    },
    {
      "cell_type": "code",
      "source": [
        "validation_loss = torch.load('/content/drive/MyDrive/VOC2007/Validation/real_loss.pt').to(device)\n",
        "validation_loss = list(validation_loss)"
      ],
      "metadata": {
        "id": "Mdlox-2zCxVo"
      },
      "execution_count": null,
      "outputs": []
    },
    {
      "cell_type": "code",
      "execution_count": null,
      "metadata": {
        "id": "1ldAsOZ9lOxU"
      },
      "outputs": [],
      "source": [
        "training_loss = torch.load('/content/drive/MyDrive/VOC2007/Train/real_loss.pt').to(device)\n",
        "training_loss = list(training_loss)"
      ]
    },
    {
      "cell_type": "code",
      "execution_count": null,
      "metadata": {
        "id": "a-2U5XUZRzcP"
      },
      "outputs": [],
      "source": [
        "train_loader = DataLoader(TensorDataset(torch.load(\"/content/drive/MyDrive/VOC2007/Train/Batch3/train_imgs.pt\").to(device), torch.load(\"/content/drive/MyDrive/VOC2007/Train/Batch3/train_gt.pt\").to(device)), batch_size=Batch_size)"
      ]
    },
    {
      "cell_type": "code",
      "execution_count": null,
      "metadata": {
        "id": "aciVc98RR1RA"
      },
      "outputs": [],
      "source": [
        "val_loader = DataLoader(TensorDataset(torch.load(\"/content/drive/MyDrive/VOC2007/Validation/Batch1/val_imgs.pt\").to(device), torch.load(\"/content/drive/MyDrive/VOC2007/Validation/Batch1/val_gt.pt\").to(device)), batch_size=Batch_size)"
      ]
    },
    {
      "cell_type": "code",
      "execution_count": null,
      "metadata": {
        "id": "r3HeQ69BSCo8"
      },
      "outputs": [],
      "source": [
        "model.load_state_dict(torch.load('/content/drive/MyDrive/VOC2007/real_model_weights.pt'))"
      ]
    },
    {
      "cell_type": "code",
      "execution_count": null,
      "metadata": {
        "id": "A9ccWrQiR5q-"
      },
      "outputs": [],
      "source": [
        "for epoch in range(1, num_epoches):\n",
        "\n",
        "  model.train()\n",
        "  train_loss = 0\n",
        "  for batch_idx, (X, Y) in enumerate(train_loader):\n",
        "\n",
        "    optimizer.zero_grad()\n",
        "    X = torch.permute(X, (0, 3, 1, 2))\n",
        "    predictions = model.forward(X)\n",
        "    predictions = torch.clamp(predictions, min=0, max=1)\n",
        "    Loss = loss_function(predictions, Y)\n",
        "    Loss.backward()\n",
        "    optimizer.step()\n",
        "    train_loss += Loss\n",
        "\n",
        "  torch.save(model.state_dict(), '/content/drive/MyDrive/VOC2007/real_model_weights.pt')\n",
        "  print(\"training loss: epoch: \", epoch, \"loss: \", train_loss/1500)\n",
        "  training_loss.append(train_loss/1500)\n",
        "  torch.save(torch.Tensor(training_loss).to(device), '/content/drive/MyDrive/VOC2007/Train/real_loss.pt')\n",
        "\n",
        "  model.eval()\n",
        "  val_loss = 0\n",
        "  with torch.inference_mode():\n",
        "    for batch_idx, (X, Y) in enumerate(val_loader):\n",
        "      X = torch.permute(X, (0, 3, 1, 2))\n",
        "      predictions = model(X)\n",
        "      val_loss += loss_function(predictions, Y)\n",
        "\n",
        "  print(\"validation loss: epoch: \", epoch, \"loss: \", val_loss/100)\n",
        "  validation_loss.append(val_loss/100)\n",
        "  torch.save(torch.Tensor(validation_loss).to(device), '/content/drive/MyDrive/VOC2007/Validation/real_loss.pt')"
      ]
    },
    {
      "cell_type": "code",
      "source": [
        "len(training_loss)"
      ],
      "metadata": {
        "id": "FAyfzj_rFwHD"
      },
      "execution_count": null,
      "outputs": []
    },
    {
      "cell_type": "code",
      "source": [
        "len(validation_loss)"
      ],
      "metadata": {
        "id": "Y7Bs6pUwFnbv"
      },
      "execution_count": null,
      "outputs": []
    },
    {
      "cell_type": "code",
      "source": [
        "training_loss"
      ],
      "metadata": {
        "id": "pPSoFxGGLNAd"
      },
      "execution_count": null,
      "outputs": []
    },
    {
      "cell_type": "code",
      "source": [
        "validation_loss"
      ],
      "metadata": {
        "id": "Aj-hyxCKMtKl"
      },
      "execution_count": null,
      "outputs": []
    },
    {
      "cell_type": "code",
      "source": [
        "torch.save(torch.Tensor(validation_loss).to(device), '/content/drive/MyDrive/VOC2007/Validation/real_loss.pt')"
      ],
      "metadata": {
        "id": "3BrHB5L63UMM"
      },
      "execution_count": null,
      "outputs": []
    }
  ],
  "metadata": {
    "accelerator": "GPU",
    "colab": {
      "provenance": [],
      "gpuType": "T4"
    },
    "kernelspec": {
      "display_name": "Python 3",
      "name": "python3"
    },
    "language_info": {
      "name": "python"
    }
  },
  "nbformat": 4,
  "nbformat_minor": 0
}